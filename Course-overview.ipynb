{
 "cells": [
  {
   "cell_type": "markdown",
   "id": "0",
   "metadata": {},
   "source": [
    "# UniGe Pangeo Pathfinder Short Course\n",
    "## Emerging open-source Python-based infrastructure for scalable,data-proximate analysis and visualization of model output (a.k.a the Pangeo Platform)\n",
    "\n",
    "## Overview\n",
    "\n",
    "* Welcome/ workshop goals (5 min)\n",
    "* [The Pangeo Platform](https://docs.google.com/presentation/d/1q6Ijst8z8KO25-RGSbMcbFF3XnvidrW1Em1iGQFdeUw/edit?usp=sharing) (10 min) \n",
    "* CONUS404 explorer from the HyTEST Project (10 min)\n",
    "* Create a notebook from scratch looking at data on the Unidata THREDDS Server (5 min)\n",
    " \n",
    "* Exercise: Learn more about Xarray or explore data\n",
    "  * Logging into the Nebari ESIP Workshop JupyterHub: https://tinyurl.com/CSDMS12 (10 min)\n",
    "  * [Xarray in 45 minutes](https://tutorial.xarray.dev/overview/xarray-in-45-min.html) (20 min)\n",
    "  * Try running and modifying the CONUS404, Hurricane Ike, or Planetary Computer notebooks, exploring the dask dashboard\n",
    "\n",
    "* Demo: Working with data in the Cloud (15 min)\n",
    "  * download air temperature NetCDF file from [xarray examples](https://github.com/pydata/xarray-data)\n",
    "  * open NetCDF file with xarrray\n",
    "  * push to s3 using fsspec\n",
    "  * open from s3 using fsspec \n",
    "  * [Kerchunk tutorial](https://github.com/lsterzinger/2022-esip-kerchunk-tutorial)\n",
    "  * Rechunking\n",
    "\n",
    "* Exercise: Choose your own adventure.  (30 min)\n",
    "  * Use fsspec/hvplot to open some data from one of the AWS, GCS or Azure public datasets \n",
    "  * Try some of the other notebooks in this folder \n",
    "  * Planetary Computer [Data Catalog](https://planetarycomputer.microsoft.com/catalog) examples.  Each dataset has an example notebook. \n",
    "  * [HyTEST](https://hytest-org.github.io/hytest/doc/About.html) example notebooks\n",
    " \n",
    "  \n",
    "* Using the framework after the workshop (Okay I love it, so now what?) (15 min)\n",
    "  * getting help ([Pangeo Discourse](https://discourse.pangeo.io/) forum, [HoloViz Discourse](https://discourse.holoviz.org/) forum, ESIP Slack Cloud computing channel)\n",
    "  * setting up the framework for youself : \n",
    "      * Service providers: [2i2c](https://2i2c.org/), [SaturnCloud](https://saturncloud.io/), [Coiled](https://coiled.io)\n",
    "      * Deploy yourself: \n",
    "          * Cloud:  deployment with [Nebari](https://www.nebari.dev/)\n",
    "          * HPC/Remote machine: [Instructions for HPC or remote machine deployment](https://pangeo.io/setup_guides/hpc.html)\n",
    "          * Locally: Use the [IOOS Python instructions](https://ioos.github.io/ioos_code_lab/content/ioos_installation_conda.html) to set up Python and then use our [Hytest/Pangeo environment file](https://github.com/hytest-org/hytest/blob/main/environment_set_up/nebari-users-pangeo-env.yml) instead of the IOOS environment file. \n",
    "\n",
    "# Extras \n",
    "\n",
    "* [Rechunker tutorial](https://rechunker.readthedocs.io/en/latest/tutorial.html)\n",
    "* [Remote sensing examples: Sentinel2 and Landsat](https://github.com/Element84/geo-notebooks)\n",
    "* [Setting AWS Credentials](https://hytest-org.github.io/hytest/environment_set_up/Help_AWS_Credentials.html)\n",
    "* [The HyTEST Project Repo](https://hytest-org.github.io/hytest/doc/About.html)"
   ]
  },
  {
   "cell_type": "code",
   "execution_count": null,
   "id": "1",
   "metadata": {},
   "outputs": [],
   "source": []
  }
 ],
 "metadata": {
  "kernelspec": {
   "display_name": "global-global-pangeo",
   "language": "python",
   "name": "conda-env-global-global-pangeo-py"
  },
  "language_info": {
   "codemirror_mode": {
    "name": "ipython",
    "version": 3
   },
   "file_extension": ".py",
   "mimetype": "text/x-python",
   "name": "python",
   "nbconvert_exporter": "python",
   "pygments_lexer": "ipython3",
   "version": "3.11.6"
  }
 },
 "nbformat": 4,
 "nbformat_minor": 5
}
