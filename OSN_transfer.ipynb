{
 "cells": [
  {
   "cell_type": "code",
   "execution_count": null,
   "id": "0",
   "metadata": {
    "tags": []
   },
   "outputs": [],
   "source": [
    "import fsspec"
   ]
  },
  {
   "cell_type": "markdown",
   "id": "1",
   "metadata": {
    "tags": []
   },
   "source": [
    "Download a NetCDF4 file"
   ]
  },
  {
   "cell_type": "code",
   "execution_count": null,
   "id": "2",
   "metadata": {
    "tags": []
   },
   "outputs": [],
   "source": [
    "fs_s3 = fsspec.filesystem('s3',anon=True, client_kwargs={'endpoint_url':'https://ncsa.osn.xsede.org'})\n",
    "file = 'esip/jzambon/testing/his_20231030_nc4.nc'\n",
    "fs_s3.download(file,file.split('/')[-1])"
   ]
  },
  {
   "cell_type": "markdown",
   "id": "3",
   "metadata": {},
   "source": [
    "Upload at NetCDF 64 bit offset file"
   ]
  },
  {
   "cell_type": "code",
   "execution_count": null,
   "id": "4",
   "metadata": {
    "tags": []
   },
   "outputs": [],
   "source": [
    "fs_m = fsspec.filesystem('s3',profile='osn-mghp', client_kwargs={'endpoint_url':'https://mghp.osn.xsede.org'})\n",
    "fs_m.upload('his_20231030_64bit.nc', 'rsignellbucket1/rsignell/testing/his_20231030_64bit.nc')"
   ]
  },
  {
   "cell_type": "code",
   "execution_count": null,
   "id": "5",
   "metadata": {
    "tags": []
   },
   "outputs": [],
   "source": [
    "%%time\n",
    "fs_m = fsspec.filesystem('s3',anon=True, client_kwargs={'endpoint_url':'https://mghp.osn.xsede.org'})\n",
    "fs_m.download('rsignellbucket1/rsignell/testing/his_20231030_64bit.nc','64bit2.nc')"
   ]
  },
  {
   "cell_type": "code",
   "execution_count": null,
   "id": "6",
   "metadata": {
    "tags": []
   },
   "outputs": [],
   "source": [
    "fs_s3.ls('esip/jzambon/testing')"
   ]
  },
  {
   "cell_type": "code",
   "execution_count": null,
   "id": "7",
   "metadata": {
    "tags": []
   },
   "outputs": [],
   "source": [
    "import fsspec\n",
    "fs_s3 = fsspec.filesystem('s3',anon=True, client_kwargs={'endpoint_url':'https://ncsa.osn.xsede.org'})\n",
    "fs_s3.download(f'esip/jzambon/testing/his_20231030.nc','64bit_offset.nc')\n",
    "!ncdump -k 64bit_offset.nc"
   ]
  },
  {
   "cell_type": "markdown",
   "id": "8",
   "metadata": {},
   "source": [
    "Download NetCDF 64 bit offset files from MGHP OSN bucket:"
   ]
  },
  {
   "cell_type": "code",
   "execution_count": null,
   "id": "9",
   "metadata": {
    "tags": []
   },
   "outputs": [],
   "source": [
    "fs = fsspec.filesystem('s3', anon=True, client_kwargs={'endpoint_url':'https://mghp.osn.xsede.org'})"
   ]
  },
  {
   "cell_type": "code",
   "execution_count": null,
   "id": "10",
   "metadata": {
    "tags": []
   },
   "outputs": [],
   "source": [
    "flist = fs.ls('rsignellbucket1/jzambon/')\n",
    "flist"
   ]
  },
  {
   "cell_type": "markdown",
   "id": "11",
   "metadata": {},
   "source": [
    "We want just the netcdf3-64bit offset files"
   ]
  },
  {
   "cell_type": "code",
   "execution_count": null,
   "id": "12",
   "metadata": {
    "tags": []
   },
   "outputs": [],
   "source": [
    "flist = fs.glob('rsignellbucket1/jzambon/his_????????.nc')\n",
    "flist"
   ]
  },
  {
   "cell_type": "code",
   "execution_count": null,
   "id": "13",
   "metadata": {
    "tags": []
   },
   "outputs": [],
   "source": [
    "%%time\n",
    "fs.download(flist, '/shared/users/rsignell/data/jzambon/')"
   ]
  },
  {
   "cell_type": "code",
   "execution_count": null,
   "id": "14",
   "metadata": {},
   "outputs": [],
   "source": []
  }
 ],
 "metadata": {
  "kernelspec": {
   "display_name": "global-global-pangeo",
   "language": "python",
   "name": "conda-env-global-global-pangeo-py"
  },
  "language_info": {
   "codemirror_mode": {
    "name": "ipython",
    "version": 3
   },
   "file_extension": ".py",
   "mimetype": "text/x-python",
   "name": "python",
   "nbconvert_exporter": "python",
   "pygments_lexer": "ipython3",
   "version": "3.10.13"
  }
 },
 "nbformat": 4,
 "nbformat_minor": 5
}
