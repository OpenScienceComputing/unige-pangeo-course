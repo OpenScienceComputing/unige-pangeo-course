{
 "cells": [
  {
   "cell_type": "markdown",
   "id": "0",
   "metadata": {},
   "source": [
    "### MeteOcean wave climate and extremes statistics in the Mediterranean Sea: hindcast and multi-model ensemble of GCM-RCMs projections by 2100\n",
    "#### A. Lira-Loarca & G. Besio\n",
    "\n",
    "\n",
    "\n",
    "This notebook loads and plots the indices for hindcast and future projections. The dataset contains statistics for significant wave height, $H_s$, mean wave period, $T_m$, peak wave period, $T_p$, and mean wave direction, $\\theta_m$, for Hindcast (1979-2005) and a multi-model ensemble of 17 EURO-CORDEX GCM-RCMs projections for the following periods: \n",
    "- Baseline/Hindcast (1979-2005)\n",
    "- Mid-century (2034-2060) for RCP 8.5\n",
    "- End-of-century (2074-2100) for RCP 8.5.\n",
    "\n",
    "The user needs to select the variable <code>var</code> and the case <code>case</code> to analyze. \n",
    "\n",
    "Additionally,for `var = 'hs'`, the user needs to define `bias_adj = True` or `bias_adj = False`.\n",
    "\n",
    "The different options are:\n",
    "\n",
    "For `var = 'hs'`:\n",
    "- `case = `\n",
    "    - `'monthlymax'`| `'seasonalmax'`\n",
    "    - `'monthlymean'` | `'seasonalmean'`\n",
    "    - `'monthlyquantiles'` | `'seasonalquantiles'`\n",
    "    - `meanseastates_over_p90__monthlymean` | `meanseastates_over_p90__seasonalmean`\n",
    "    - `meanseastates_over_p95__monthlymean` | `meanseastates_over_p95__seasonalmean`\n",
    "    - `nseastates_over_p90__monthlymean` | `nseastates_over_p90__seasonalmean`\n",
    "    - `nseastates_over_p95__monthlymean` | `nseastates_over_p95__seasonalmean`\n",
    "    - `nseastates_over_p90__monthlymean_perc` | `nseastates_over_p90__seasonalmean_perc`\n",
    "    - `nseastates_over_p95__monthlymean_perc` | `nseastates_over_p95__seasonalmean_perc`\n",
    "    - `meanseastates_over_ss3-1p25__monthlymean` | `meanseastates_over_ss3-1p25__seasonalmean`\n",
    "    - `meanseastates_over_ss4-2p5__monthlymean` | `meanseastates_over_ss4-2p5__seasonalmean`\n",
    "    - `meanseastates_over_ss5-4__monthlymean` | `meanseastates_over_ss5-4__seasonalmean`\n",
    "    - `nseastates_over_ss3-1p25__monthlymean` | `nseastates_over_ss3-1p25__seasonalmean`\n",
    "    - `nseastates_over_ss4-2p5__monthlymean` | `nseastates_over_ss4-2p5__seasonalmean`\n",
    "    - `nseastates_over_ss5-4__monthlymean` | `nseastates_over_ss5-4__seasonalmean` \n",
    "    - `nseastates_over_ss3-1p25__monthlymean_perc` |  `nseastates_over_ss3-1p25__seasonalmean_perc`\n",
    "    - `nseastates_over_ss4-2p5__monthlymean_perc` | `nseastates_over_ss4-2p5__seasonalmean_perc`\n",
    "    - `nseastates_over_ss5-4__monthlymean_perc` |  `nseastates_over_ss5-4__seasonalmean_perc`\n",
    "    - `ndays_dmax_over_p90_2consecdays__monthlymean` | `ndays_dmax_over_p90_2consecdays__seasonalmean`\n",
    "    - `ndays_dmax_over_p95_2consecdays__monthlymean` | `ndays_dmax_over_p95_2consecdays__seasonalmean`\n",
    "    - `ndays_dmax_over_p90_2consecdays__monthlymean_perc` | `ndays_dmax_over_p90_2consecdays__seasonalmean_perc`\n",
    "    - `ndays_dmax_over_p95_2consecdays__monthlymean_perc` | `ndays_dmax_over_p95_2consecdays__seasonalmean_perc`\n",
    "\n",
    "For <code>var = 'tm'</code> or `var = 'tp'`\n",
    "- <code>case = </code>\n",
    "    - <code>'monthlymax'</code> | <code>'seasonalmax'</code>\n",
    "    - <code>'monthlymean'</code> | <code>'seasonalmean'</code>\n",
    "    - <code>'monthlyquantiles'</code> | <code>'seasonalquantiles'</code>\n",
    "\n",
    "For <code>var = 'dirm'</code>\n",
    "- <code>case = </code>\n",
    "    - <code>'monthlymean'</code> | <code>'seasonalmean'</code>\n",
    "    - <code>'monthlystd'</code> | <code>'seasonalstd'</code>\n",
    "\n",
    "\n"
   ]
  },
  {
   "cell_type": "code",
   "execution_count": null,
   "id": "1",
   "metadata": {},
   "outputs": [],
   "source": [
    "var = 'tm'\n",
    "case = 'seasonalquantiles'\n",
    "bias_adj = False  # only for hs"
   ]
  },
  {
   "cell_type": "code",
   "execution_count": null,
   "id": "2",
   "metadata": {},
   "outputs": [],
   "source": [
    "import fsspec \n",
    "import xarray as xr\n",
    "import hvplot.xarray\n",
    "import pandas as pd"
   ]
  },
  {
   "cell_type": "code",
   "execution_count": null,
   "id": "3",
   "metadata": {},
   "outputs": [],
   "source": [
    "fs_read = fsspec.filesystem('s3', anon=True, skip_instance_cache=True,\n",
    "                            client_kwargs={'endpoint_url': 'https://usgs.osn.mghpcc.org'})\n",
    "\n",
    "if var == 'hs' and bias_adj:\n",
    "    data_ba = 'ba_eqm_month'\n",
    "else:\n",
    "    data_ba = 'raw' "
   ]
  },
  {
   "cell_type": "code",
   "execution_count": null,
   "id": "4",
   "metadata": {},
   "outputs": [],
   "source": [
    "# Hindcast\n",
    "data_url = f's3://genoatest/aloarca/wave_dataset/hindcast_{var}_1979_2005__{case}.nc'\n",
    "ds_hind = xr.open_dataset(fs_read.open(data_url), engine='h5netcdf')\n",
    "ds_hind[var].hvplot(x='longitude', y='latitude', rasterize=True)"
   ]
  },
  {
   "cell_type": "code",
   "execution_count": null,
   "id": "5",
   "metadata": {},
   "outputs": [],
   "source": [
    "# GCM-RCMs\n",
    "periods = ['rcp85_mid', '2034_2060'], ['rcp85_end', '2074_2100']\n",
    "list_fn_rcms_per, list_case_rcms_per = list(), list()\n",
    "for period in periods:\n",
    "    list_fn_rcms, list_case_rcms = list(), list()\n",
    "    data_url = f's3://genoatest/aloarca/wave_dataset/*_{data_ba}_{period[0]}_{var}_{period[1]}__{case}.nc'\n",
    "    for fn in fs_read.glob(data_url):\n",
    "        ds_rcm = xr.open_dataset(fs_read.open(fn), engine='h5netcdf')\n",
    "        ds_rcm = ds_rcm.reindex(longitude=ds_hind.longitude, latitude=ds_hind.latitude, method='nearest')\n",
    "        list_fn_rcms.append(ds_rcm)\n",
    "        list_case_rcms.append(fn.split('/')[-1].split('_')[0])\n",
    "    ds_rcms = xr.concat(list_fn_rcms, pd.Index(list_case_rcms, name='case'))\n",
    "    list_fn_rcms_per.append(ds_rcms)\n",
    "    list_case_rcms_per.append(f'{period[0]}-{period[1]}')\n",
    "ds_rcms = xr.concat(list_fn_rcms_per, pd.Index(list_case_rcms_per, name='period'))\n",
    "\n",
    "list_fn, list_case = list(), list()\n",
    "list_fn.append(ds_rcms.mean('case'))\n",
    "list_case.append('ensemble-mean')\n",
    "\n",
    "list_fn.append(ds_rcms.mean('case')-ds_hind)\n",
    "list_case.append('changes-em-hindcast')\n",
    "\n",
    "ds = xr.concat(list_fn, pd.Index(list_case, name='case'))\n",
    "ds = xr.merge([ds, ds_rcms])\n",
    "ds[var].hvplot(x='longitude', y='latitude', rasterize=True)"
   ]
  }
 ],
 "metadata": {
  "kernelspec": {
   "display_name": "pangeo",
   "language": "python",
   "name": "pangeo"
  },
  "language_info": {
   "codemirror_mode": {
    "name": "ipython",
    "version": 3
   },
   "file_extension": ".py",
   "mimetype": "text/x-python",
   "name": "python",
   "nbconvert_exporter": "python",
   "pygments_lexer": "ipython3",
   "version": "3.10.13"
  }
 },
 "nbformat": 4,
 "nbformat_minor": 5
}
